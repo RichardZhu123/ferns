{
 "cells": [
  {
   "cell_type": "code",
   "execution_count": 1,
   "id": "6258a298-12ca-4506-83a6-db3702284099",
   "metadata": {
    "tags": []
   },
   "outputs": [
    {
     "name": "stdout",
     "output_type": "stream",
     "text": [
      "Defaulting to user installation because normal site-packages is not writeable\n",
      "Requirement already satisfied: h5py in /home/ryzhu/.local/lib/python3.11/site-packages (3.10.0)\n",
      "Requirement already satisfied: numpy>=1.17.3 in /usr/licensed/anaconda3/2023.9/lib/python3.11/site-packages (from h5py) (1.24.3)\n"
     ]
    }
   ],
   "source": [
    "!pip install h5py"
   ]
  },
  {
   "cell_type": "code",
   "execution_count": 9,
   "id": "0a83ccd0-c187-4f08-8ea9-2d521fb72caf",
   "metadata": {
    "tags": []
   },
   "outputs": [
    {
     "name": "stdout",
     "output_type": "stream",
     "text": [
      "<KeysViewHDF5 ['distances', 'neighbors', 'test', 'train']>\n"
     ]
    }
   ],
   "source": [
    "import h5py\n",
    "\n",
    "with h5py.File('data/mnist-784-euclidean.hdf5', 'r') as f:\n",
    "    data = f['train'][:]\n",
    "    print(f.keys())"
   ]
  },
  {
   "cell_type": "code",
   "execution_count": 12,
   "id": "736a9dd6-ddaa-4e21-b979-f44df6a9921e",
   "metadata": {
    "tags": []
   },
   "outputs": [
    {
     "name": "stdout",
     "output_type": "stream",
     "text": [
      "(60000, 784)\n"
     ]
    }
   ],
   "source": [
    "print(data.shape)"
   ]
  },
  {
   "cell_type": "code",
   "execution_count": null,
   "id": "b8175106-6977-4015-a540-d46e2b48f6d3",
   "metadata": {},
   "outputs": [],
   "source": []
  }
 ],
 "metadata": {
  "kernelspec": {
   "display_name": "Python 3 (ipykernel)",
   "language": "python",
   "name": "python3"
  },
  "language_info": {
   "codemirror_mode": {
    "name": "ipython",
    "version": 3
   },
   "file_extension": ".py",
   "mimetype": "text/x-python",
   "name": "python",
   "nbconvert_exporter": "python",
   "pygments_lexer": "ipython3",
   "version": "3.11.5"
  }
 },
 "nbformat": 4,
 "nbformat_minor": 5
}
